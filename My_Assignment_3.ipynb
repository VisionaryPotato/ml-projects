{
 "cells": [
  {
   "cell_type": "markdown",
   "metadata": {
    "id": "1sdZC5eNbWqy"
   },
   "source": [
    "# CS345 Assignment 3\n",
    "\n",
    "## Fall 2021\n",
    "### November 1, 2021\n",
    "\n",
    "In this assignment, you will be exploring regression to predict wine quality ratings.  The data for this assignment originates in the UCI Dataset Repository - [here is the direct link](https://archive-beta.ics.uci.edu/ml/datasets/wine+quality). Please, as we get started, note this is **not** the same dataset as the sklearn [Wine recognition dataset](https://scikit-learn.org/stable/datasets/toy_dataset.html).  \n",
    "\n",
    "As you work through what follows you will be writing code that enables you to examine how the task of predicting wine quality can be treated as a regression problem as well as a classification problem.  The assignment has 10 parts and includes a mix of code provided to you and node you need to create yourself."
   ]
  },
  {
   "cell_type": "code",
   "execution_count": 1,
   "metadata": {
    "id": "Gl8P_uFLbWq6"
   },
   "outputs": [],
   "source": [
    "## These includes are provided for you.\n",
    "\n",
    "import seaborn as sns\n",
    "import pandas as pd\n",
    "import numpy as np\n",
    "import matplotlib.pyplot as plt\n",
    "from numpy.random import default_rng\n",
    "from sklearn.linear_model import LinearRegression\n",
    "from sklearn.neighbors import KNeighborsClassifier\n",
    "from sklearn.metrics import mean_squared_error\n",
    "from sklearn.metrics import mean_absolute_error\n",
    "from sklearn.model_selection import train_test_split\n",
    "\n",
    "%matplotlib inline"
   ]
  },
  {
   "cell_type": "markdown",
   "metadata": {
    "id": "NtDtR0ojbWq7"
   },
   "source": [
    "## Part 1: Loading Red Wine Data"
   ]
  },
  {
   "cell_type": "markdown",
   "metadata": {
    "id": "fcrpobksbWq7"
   },
   "source": [
    "Here we are asking you to load the red wine quality data from a csv file and construct a Panda DataFrame. There are annoying details in successfully reading the file ``winequality-red.csv`` provided here:\n",
    "\n",
    "[Index of /ml/machine-learning-databases/wine-quality](https://archive.ics.uci.edu/ml/machine-learning-databases/wine-quality/)\n",
    "\n",
    "Therefore, to speed you along, here is the code to read the downloaded data into a dataframe. Also, about the annoying detail, the file suffix \"csv\" stands for comma seperated variables. Unfortunately, some folks insist on keep \"csv\" when changing the seperator from comman to semi-colon.  Note a simple second argument gets us past this obstacle. \n",
    "\n",
    "\n"
   ]
  },
  {
   "cell_type": "code",
   "execution_count": 2,
   "metadata": {
    "colab": {
     "base_uri": "https://localhost:8080/",
     "height": 238
    },
    "id": "oMUufb5VbWq7",
    "outputId": "9b019dc1-6a8f-4890-da8a-58563b7700d9"
   },
   "outputs": [
    {
     "data": {
      "text/html": [
       "<div>\n",
       "<style scoped>\n",
       "    .dataframe tbody tr th:only-of-type {\n",
       "        vertical-align: middle;\n",
       "    }\n",
       "\n",
       "    .dataframe tbody tr th {\n",
       "        vertical-align: top;\n",
       "    }\n",
       "\n",
       "    .dataframe thead th {\n",
       "        text-align: right;\n",
       "    }\n",
       "</style>\n",
       "<table border=\"1\" class=\"dataframe\">\n",
       "  <thead>\n",
       "    <tr style=\"text-align: right;\">\n",
       "      <th></th>\n",
       "      <th>quality</th>\n",
       "      <th>fixed acidity</th>\n",
       "      <th>volatile acidity</th>\n",
       "      <th>citric acid</th>\n",
       "      <th>residual sugar</th>\n",
       "      <th>chlorides</th>\n",
       "      <th>free sulfur dioxide</th>\n",
       "      <th>total sulfur dioxide</th>\n",
       "      <th>density</th>\n",
       "      <th>pH</th>\n",
       "      <th>sulphates</th>\n",
       "      <th>alcohol</th>\n",
       "    </tr>\n",
       "  </thead>\n",
       "  <tbody>\n",
       "    <tr>\n",
       "      <th>0</th>\n",
       "      <td>5</td>\n",
       "      <td>7.4</td>\n",
       "      <td>0.70</td>\n",
       "      <td>0.00</td>\n",
       "      <td>1.9</td>\n",
       "      <td>0.076</td>\n",
       "      <td>11.0</td>\n",
       "      <td>34.0</td>\n",
       "      <td>0.9978</td>\n",
       "      <td>3.51</td>\n",
       "      <td>0.56</td>\n",
       "      <td>9.4</td>\n",
       "    </tr>\n",
       "    <tr>\n",
       "      <th>1</th>\n",
       "      <td>5</td>\n",
       "      <td>7.8</td>\n",
       "      <td>0.88</td>\n",
       "      <td>0.00</td>\n",
       "      <td>2.6</td>\n",
       "      <td>0.098</td>\n",
       "      <td>25.0</td>\n",
       "      <td>67.0</td>\n",
       "      <td>0.9968</td>\n",
       "      <td>3.20</td>\n",
       "      <td>0.68</td>\n",
       "      <td>9.8</td>\n",
       "    </tr>\n",
       "    <tr>\n",
       "      <th>2</th>\n",
       "      <td>5</td>\n",
       "      <td>7.8</td>\n",
       "      <td>0.76</td>\n",
       "      <td>0.04</td>\n",
       "      <td>2.3</td>\n",
       "      <td>0.092</td>\n",
       "      <td>15.0</td>\n",
       "      <td>54.0</td>\n",
       "      <td>0.9970</td>\n",
       "      <td>3.26</td>\n",
       "      <td>0.65</td>\n",
       "      <td>9.8</td>\n",
       "    </tr>\n",
       "    <tr>\n",
       "      <th>3</th>\n",
       "      <td>6</td>\n",
       "      <td>11.2</td>\n",
       "      <td>0.28</td>\n",
       "      <td>0.56</td>\n",
       "      <td>1.9</td>\n",
       "      <td>0.075</td>\n",
       "      <td>17.0</td>\n",
       "      <td>60.0</td>\n",
       "      <td>0.9980</td>\n",
       "      <td>3.16</td>\n",
       "      <td>0.58</td>\n",
       "      <td>9.8</td>\n",
       "    </tr>\n",
       "    <tr>\n",
       "      <th>4</th>\n",
       "      <td>5</td>\n",
       "      <td>7.4</td>\n",
       "      <td>0.70</td>\n",
       "      <td>0.00</td>\n",
       "      <td>1.9</td>\n",
       "      <td>0.076</td>\n",
       "      <td>11.0</td>\n",
       "      <td>34.0</td>\n",
       "      <td>0.9978</td>\n",
       "      <td>3.51</td>\n",
       "      <td>0.56</td>\n",
       "      <td>9.4</td>\n",
       "    </tr>\n",
       "  </tbody>\n",
       "</table>\n",
       "</div>"
      ],
      "text/plain": [
       "   quality  fixed acidity  volatile acidity  citric acid  residual sugar  \\\n",
       "0        5            7.4              0.70         0.00             1.9   \n",
       "1        5            7.8              0.88         0.00             2.6   \n",
       "2        5            7.8              0.76         0.04             2.3   \n",
       "3        6           11.2              0.28         0.56             1.9   \n",
       "4        5            7.4              0.70         0.00             1.9   \n",
       "\n",
       "   chlorides  free sulfur dioxide  total sulfur dioxide  density    pH  \\\n",
       "0      0.076                 11.0                  34.0   0.9978  3.51   \n",
       "1      0.098                 25.0                  67.0   0.9968  3.20   \n",
       "2      0.092                 15.0                  54.0   0.9970  3.26   \n",
       "3      0.075                 17.0                  60.0   0.9980  3.16   \n",
       "4      0.076                 11.0                  34.0   0.9978  3.51   \n",
       "\n",
       "   sulphates  alcohol  \n",
       "0       0.56      9.4  \n",
       "1       0.68      9.8  \n",
       "2       0.65      9.8  \n",
       "3       0.58      9.8  \n",
       "4       0.56      9.4  "
      ]
     },
     "execution_count": 2,
     "metadata": {},
     "output_type": "execute_result"
    }
   ],
   "source": [
    "# Run Code\n",
    "\n",
    "wine_red  = pd.read_table(r'winequality-red.csv', sep=';')\n",
    "original  = [str for str in wine_red.columns]\n",
    "reordered = [original[11]] + original[0:11]\n",
    "wine_red  = wine_red.reindex(columns=reordered)\n",
    "wine_red.head()"
   ]
  },
  {
   "cell_type": "markdown",
   "metadata": {
    "id": "VBpklgtaZ51M"
   },
   "source": [
    "## Part 2: Exhaustive Correlation Between Features\n",
    "\n",
    "A logical first step in better understanding the data is to compute the correlation between all pairs of features. And in this context, include the variable to be predicted, namely ``quality`` in this comparison."
   ]
  },
  {
   "cell_type": "code",
   "execution_count": 3,
   "metadata": {
    "id": "AKn14H19Z51N",
    "outputId": "5f25a6af-64e8-4b57-a59c-59efdfe8b32e"
   },
   "outputs": [
    {
     "data": {
      "text/html": [
       "<div>\n",
       "<style scoped>\n",
       "    .dataframe tbody tr th:only-of-type {\n",
       "        vertical-align: middle;\n",
       "    }\n",
       "\n",
       "    .dataframe tbody tr th {\n",
       "        vertical-align: top;\n",
       "    }\n",
       "\n",
       "    .dataframe thead th {\n",
       "        text-align: right;\n",
       "    }\n",
       "</style>\n",
       "<table border=\"1\" class=\"dataframe\">\n",
       "  <thead>\n",
       "    <tr style=\"text-align: right;\">\n",
       "      <th></th>\n",
       "      <th>quality</th>\n",
       "      <th>fixed acidity</th>\n",
       "      <th>volatile acidity</th>\n",
       "      <th>citric acid</th>\n",
       "      <th>residual sugar</th>\n",
       "      <th>chlorides</th>\n",
       "      <th>free sulfur dioxide</th>\n",
       "      <th>total sulfur dioxide</th>\n",
       "      <th>density</th>\n",
       "      <th>pH</th>\n",
       "      <th>sulphates</th>\n",
       "      <th>alcohol</th>\n",
       "    </tr>\n",
       "  </thead>\n",
       "  <tbody>\n",
       "    <tr>\n",
       "      <th>quality</th>\n",
       "      <td>1.000000</td>\n",
       "      <td>0.124052</td>\n",
       "      <td>-0.390558</td>\n",
       "      <td>0.226373</td>\n",
       "      <td>0.013732</td>\n",
       "      <td>-0.128907</td>\n",
       "      <td>-0.050656</td>\n",
       "      <td>-0.185100</td>\n",
       "      <td>-0.174919</td>\n",
       "      <td>-0.057731</td>\n",
       "      <td>0.251397</td>\n",
       "      <td>0.476166</td>\n",
       "    </tr>\n",
       "    <tr>\n",
       "      <th>fixed acidity</th>\n",
       "      <td>0.124052</td>\n",
       "      <td>1.000000</td>\n",
       "      <td>-0.256131</td>\n",
       "      <td>0.671703</td>\n",
       "      <td>0.114777</td>\n",
       "      <td>0.093705</td>\n",
       "      <td>-0.153794</td>\n",
       "      <td>-0.113181</td>\n",
       "      <td>0.668047</td>\n",
       "      <td>-0.682978</td>\n",
       "      <td>0.183006</td>\n",
       "      <td>-0.061668</td>\n",
       "    </tr>\n",
       "    <tr>\n",
       "      <th>volatile acidity</th>\n",
       "      <td>-0.390558</td>\n",
       "      <td>-0.256131</td>\n",
       "      <td>1.000000</td>\n",
       "      <td>-0.552496</td>\n",
       "      <td>0.001918</td>\n",
       "      <td>0.061298</td>\n",
       "      <td>-0.010504</td>\n",
       "      <td>0.076470</td>\n",
       "      <td>0.022026</td>\n",
       "      <td>0.234937</td>\n",
       "      <td>-0.260987</td>\n",
       "      <td>-0.202288</td>\n",
       "    </tr>\n",
       "    <tr>\n",
       "      <th>citric acid</th>\n",
       "      <td>0.226373</td>\n",
       "      <td>0.671703</td>\n",
       "      <td>-0.552496</td>\n",
       "      <td>1.000000</td>\n",
       "      <td>0.143577</td>\n",
       "      <td>0.203823</td>\n",
       "      <td>-0.060978</td>\n",
       "      <td>0.035533</td>\n",
       "      <td>0.364947</td>\n",
       "      <td>-0.541904</td>\n",
       "      <td>0.312770</td>\n",
       "      <td>0.109903</td>\n",
       "    </tr>\n",
       "    <tr>\n",
       "      <th>residual sugar</th>\n",
       "      <td>0.013732</td>\n",
       "      <td>0.114777</td>\n",
       "      <td>0.001918</td>\n",
       "      <td>0.143577</td>\n",
       "      <td>1.000000</td>\n",
       "      <td>0.055610</td>\n",
       "      <td>0.187049</td>\n",
       "      <td>0.203028</td>\n",
       "      <td>0.355283</td>\n",
       "      <td>-0.085652</td>\n",
       "      <td>0.005527</td>\n",
       "      <td>0.042075</td>\n",
       "    </tr>\n",
       "    <tr>\n",
       "      <th>chlorides</th>\n",
       "      <td>-0.128907</td>\n",
       "      <td>0.093705</td>\n",
       "      <td>0.061298</td>\n",
       "      <td>0.203823</td>\n",
       "      <td>0.055610</td>\n",
       "      <td>1.000000</td>\n",
       "      <td>0.005562</td>\n",
       "      <td>0.047400</td>\n",
       "      <td>0.200632</td>\n",
       "      <td>-0.265026</td>\n",
       "      <td>0.371260</td>\n",
       "      <td>-0.221141</td>\n",
       "    </tr>\n",
       "    <tr>\n",
       "      <th>free sulfur dioxide</th>\n",
       "      <td>-0.050656</td>\n",
       "      <td>-0.153794</td>\n",
       "      <td>-0.010504</td>\n",
       "      <td>-0.060978</td>\n",
       "      <td>0.187049</td>\n",
       "      <td>0.005562</td>\n",
       "      <td>1.000000</td>\n",
       "      <td>0.667666</td>\n",
       "      <td>-0.021946</td>\n",
       "      <td>0.070377</td>\n",
       "      <td>0.051658</td>\n",
       "      <td>-0.069408</td>\n",
       "    </tr>\n",
       "    <tr>\n",
       "      <th>total sulfur dioxide</th>\n",
       "      <td>-0.185100</td>\n",
       "      <td>-0.113181</td>\n",
       "      <td>0.076470</td>\n",
       "      <td>0.035533</td>\n",
       "      <td>0.203028</td>\n",
       "      <td>0.047400</td>\n",
       "      <td>0.667666</td>\n",
       "      <td>1.000000</td>\n",
       "      <td>0.071269</td>\n",
       "      <td>-0.066495</td>\n",
       "      <td>0.042947</td>\n",
       "      <td>-0.205654</td>\n",
       "    </tr>\n",
       "    <tr>\n",
       "      <th>density</th>\n",
       "      <td>-0.174919</td>\n",
       "      <td>0.668047</td>\n",
       "      <td>0.022026</td>\n",
       "      <td>0.364947</td>\n",
       "      <td>0.355283</td>\n",
       "      <td>0.200632</td>\n",
       "      <td>-0.021946</td>\n",
       "      <td>0.071269</td>\n",
       "      <td>1.000000</td>\n",
       "      <td>-0.341699</td>\n",
       "      <td>0.148506</td>\n",
       "      <td>-0.496180</td>\n",
       "    </tr>\n",
       "    <tr>\n",
       "      <th>pH</th>\n",
       "      <td>-0.057731</td>\n",
       "      <td>-0.682978</td>\n",
       "      <td>0.234937</td>\n",
       "      <td>-0.541904</td>\n",
       "      <td>-0.085652</td>\n",
       "      <td>-0.265026</td>\n",
       "      <td>0.070377</td>\n",
       "      <td>-0.066495</td>\n",
       "      <td>-0.341699</td>\n",
       "      <td>1.000000</td>\n",
       "      <td>-0.196648</td>\n",
       "      <td>0.205633</td>\n",
       "    </tr>\n",
       "    <tr>\n",
       "      <th>sulphates</th>\n",
       "      <td>0.251397</td>\n",
       "      <td>0.183006</td>\n",
       "      <td>-0.260987</td>\n",
       "      <td>0.312770</td>\n",
       "      <td>0.005527</td>\n",
       "      <td>0.371260</td>\n",
       "      <td>0.051658</td>\n",
       "      <td>0.042947</td>\n",
       "      <td>0.148506</td>\n",
       "      <td>-0.196648</td>\n",
       "      <td>1.000000</td>\n",
       "      <td>0.093595</td>\n",
       "    </tr>\n",
       "    <tr>\n",
       "      <th>alcohol</th>\n",
       "      <td>0.476166</td>\n",
       "      <td>-0.061668</td>\n",
       "      <td>-0.202288</td>\n",
       "      <td>0.109903</td>\n",
       "      <td>0.042075</td>\n",
       "      <td>-0.221141</td>\n",
       "      <td>-0.069408</td>\n",
       "      <td>-0.205654</td>\n",
       "      <td>-0.496180</td>\n",
       "      <td>0.205633</td>\n",
       "      <td>0.093595</td>\n",
       "      <td>1.000000</td>\n",
       "    </tr>\n",
       "  </tbody>\n",
       "</table>\n",
       "</div>"
      ],
      "text/plain": [
       "                       quality  fixed acidity  volatile acidity  citric acid  \\\n",
       "quality               1.000000       0.124052         -0.390558     0.226373   \n",
       "fixed acidity         0.124052       1.000000         -0.256131     0.671703   \n",
       "volatile acidity     -0.390558      -0.256131          1.000000    -0.552496   \n",
       "citric acid           0.226373       0.671703         -0.552496     1.000000   \n",
       "residual sugar        0.013732       0.114777          0.001918     0.143577   \n",
       "chlorides            -0.128907       0.093705          0.061298     0.203823   \n",
       "free sulfur dioxide  -0.050656      -0.153794         -0.010504    -0.060978   \n",
       "total sulfur dioxide -0.185100      -0.113181          0.076470     0.035533   \n",
       "density              -0.174919       0.668047          0.022026     0.364947   \n",
       "pH                   -0.057731      -0.682978          0.234937    -0.541904   \n",
       "sulphates             0.251397       0.183006         -0.260987     0.312770   \n",
       "alcohol               0.476166      -0.061668         -0.202288     0.109903   \n",
       "\n",
       "                      residual sugar  chlorides  free sulfur dioxide  \\\n",
       "quality                     0.013732  -0.128907            -0.050656   \n",
       "fixed acidity               0.114777   0.093705            -0.153794   \n",
       "volatile acidity            0.001918   0.061298            -0.010504   \n",
       "citric acid                 0.143577   0.203823            -0.060978   \n",
       "residual sugar              1.000000   0.055610             0.187049   \n",
       "chlorides                   0.055610   1.000000             0.005562   \n",
       "free sulfur dioxide         0.187049   0.005562             1.000000   \n",
       "total sulfur dioxide        0.203028   0.047400             0.667666   \n",
       "density                     0.355283   0.200632            -0.021946   \n",
       "pH                         -0.085652  -0.265026             0.070377   \n",
       "sulphates                   0.005527   0.371260             0.051658   \n",
       "alcohol                     0.042075  -0.221141            -0.069408   \n",
       "\n",
       "                      total sulfur dioxide   density        pH  sulphates  \\\n",
       "quality                          -0.185100 -0.174919 -0.057731   0.251397   \n",
       "fixed acidity                    -0.113181  0.668047 -0.682978   0.183006   \n",
       "volatile acidity                  0.076470  0.022026  0.234937  -0.260987   \n",
       "citric acid                       0.035533  0.364947 -0.541904   0.312770   \n",
       "residual sugar                    0.203028  0.355283 -0.085652   0.005527   \n",
       "chlorides                         0.047400  0.200632 -0.265026   0.371260   \n",
       "free sulfur dioxide               0.667666 -0.021946  0.070377   0.051658   \n",
       "total sulfur dioxide              1.000000  0.071269 -0.066495   0.042947   \n",
       "density                           0.071269  1.000000 -0.341699   0.148506   \n",
       "pH                               -0.066495 -0.341699  1.000000  -0.196648   \n",
       "sulphates                         0.042947  0.148506 -0.196648   1.000000   \n",
       "alcohol                          -0.205654 -0.496180  0.205633   0.093595   \n",
       "\n",
       "                       alcohol  \n",
       "quality               0.476166  \n",
       "fixed acidity        -0.061668  \n",
       "volatile acidity     -0.202288  \n",
       "citric acid           0.109903  \n",
       "residual sugar        0.042075  \n",
       "chlorides            -0.221141  \n",
       "free sulfur dioxide  -0.069408  \n",
       "total sulfur dioxide -0.205654  \n",
       "density              -0.496180  \n",
       "pH                    0.205633  \n",
       "sulphates             0.093595  \n",
       "alcohol               1.000000  "
      ]
     },
     "execution_count": 3,
     "metadata": {},
     "output_type": "execute_result"
    }
   ],
   "source": [
    "# Enter Code\n",
    "wine_red.corr()"
   ]
  },
  {
   "cell_type": "markdown",
   "metadata": {
    "id": "D7gl5kFtZ51N"
   },
   "source": [
    "## Part 2: Interpreting Univariate Analysis\n",
    "\n",
    "This problem straddles the line between being a classification problem and being a regression problem. To better understand this statement let us begin with a basic univariate regression model applied to a single feature, using the feature above shown to have the hightest correlation with ``quality``"
   ]
  },
  {
   "cell_type": "code",
   "execution_count": 4,
   "metadata": {
    "id": "74IGyxGTZ51O"
   },
   "outputs": [],
   "source": [
    "# Write Code\n",
    "\n",
    "def fit_univariate_model (df, feat) :\n",
    "    model = LinearRegression()\n",
    "    X = df[[feat]] # Alcohol\n",
    "    y = df['quality']\n",
    "    model.fit(X,y)\n",
    "    return X, y, model"
   ]
  },
  {
   "cell_type": "code",
   "execution_count": 5,
   "metadata": {
    "id": "dxEAk6yPZ51O",
    "scrolled": true
   },
   "outputs": [],
   "source": [
    "# Run Code\n",
    "\n",
    "Xa, ya, lra = fit_univariate_model(wine_red,'alcohol')"
   ]
  },
  {
   "cell_type": "markdown",
   "metadata": {
    "id": "P6ipIrfcZ51O"
   },
   "source": [
    "Now you are being asked to write code to create a plot you have already seen. Here are some hints to help you better match what you see.  First, the size of the plot is 12 by 5.  Next, the true y values are in darkred.  The predicted values on in darkgreen.  Finally, you are of course required to create an xlabel, ylabel and plot title. \n",
    "\n",
    "Regarding the printing of floating point values, here are two hints.  I choose to use a ``4.2f`` format on the error scores and also I used the explicit tab escape sequence ``\\t`` to align printed numbers."
   ]
  },
  {
   "cell_type": "code",
   "execution_count": 6,
   "metadata": {
    "id": "DuvmoFSRZ51P"
   },
   "outputs": [],
   "source": [
    "# Write Code\n",
    "def plot_graph(X, y, lr, xlabel,title):\n",
    "    x_label = xlabel\n",
    "    y_label = 'Quality'\n",
    "    y_pred = lr.predict(X)  # our predicted linear model with respect to X\n",
    "    \n",
    "    fig = plt.figure(figsize=(12,5))\n",
    "    ax = fig.add_subplot(111)\n",
    "    ax.scatter(X, y, c=\"darkred\")\n",
    "    ax.plot(X,y_pred,'o',c=\"darkgreen\") # 'o' reformats the plot to circles instead of lines.\n",
    "    ax.set_xlabel(x_label)\n",
    "    ax.set_ylabel(y_label)\n",
    "\n",
    "    ax.set_title(title)\n",
    "    return None\n",
    "\n",
    "\n",
    "def plot_regression_result_1(X, y, lr, xlabel):\n",
    "    y_true = wine_red['quality'].values # Ground truth (correct) target values.\n",
    "    y_pred = lr.predict(X) # our predicted linear model with respect to X\n",
    "    rmse = mean_squared_error(y_true, y_pred) # Mean root error regression loss.\n",
    "    mae = mean_absolute_error(y_true, y_pred) # Mean absolute error regression loss.\n",
    "    print(\"The root mean squared error is: \t%4.2f\" % rmse)\n",
    "    print(\"The mean absolute error is: \t\t%4.2f\" % mae)\n",
    "    title = (f\"Regression result: RMSE %4.2f MAE %4.2f\" %(rmse,mae))\n",
    "    plot_graph(X, y, lr, xlabel,title)\n",
    "    return None\n"
   ]
  },
  {
   "cell_type": "markdown",
   "metadata": {
    "id": "eu89bfszZ51P"
   },
   "source": [
    "Notice in the next code block that the default font size for plotting is changed to 12 point."
   ]
  },
  {
   "cell_type": "code",
   "execution_count": 7,
   "metadata": {
    "id": "7BGlGCeSZ51P",
    "outputId": "1aaf32a4-92ab-4984-fb78-8694eaa62a79",
    "scrolled": true
   },
   "outputs": [
    {
     "name": "stdout",
     "output_type": "stream",
     "text": [
      "The root mean squared error is: \t0.50\n",
      "The mean absolute error is: \t\t0.56\n"
     ]
    },
    {
     "data": {
      "image/png": "[encoded data removed]",
      "text/plain": [
       "<Figure size 864x360 with 1 Axes>"
      ]
     },
     "metadata": {
      "needs_background": "light"
     },
     "output_type": "display_data"
    }
   ],
   "source": [
    "# Run Code\n",
    "\n",
    "plt.rcParams.update({'font.size': 12})\n",
    "\n",
    "plot_regression_result_1(Xa, ya, lra, 'Alcohol')"
   ]
  },
  {
   "cell_type": "markdown",
   "metadata": {
    "id": "xD9vMBW1Z51Q"
   },
   "source": [
    "As you can see from the above regression plot, while quality ranges from 3 to 8, the values are integers and as such this problem feels a lot like a classification task and less like a regression task.  \n",
    "\n",
    "Going a bit further, that by following the output above you have computed both the root mean squared error and also the mean absolute error.  It is slightly easier to put the interpretation of the mean absolute error into a sentence. In essence, this regression model using only alcohol content can predict the quality rating with - on average - an error of $0.56$. Whether we think this is good or bad gets into a values judgement."
   ]
  },
  {
   "cell_type": "markdown",
   "metadata": {
    "id": "7kA903HXZ51R"
   },
   "source": [
    "## Part 3: What About Dumb Guessing\n",
    "\n",
    "Whenever you set out to analyze data you should be asking yourself \"What if I just do something obvious\".  Here let us pursue one version of \"obvious\" - and let us do so first by histograming the quality feature.\n",
    "\n",
    "As you set out to duplicate this plot the following information is important. First, you are using matplotlib's ``hist`` function as the key element to create the histogram. Next, you will want to expclicitly pass in the ``bin`` boundaries to reflect the original dataset documentation which states \"quality (score between 0 and 10)\". Again, the color is darkred. Also, this is a ``density=True`` histogram. Finally, the bar widths are 66 percent of the total possible and they are middle aligned over the corresponding x axes tick mark."
   ]
  },
  {
   "cell_type": "code",
   "execution_count": 8,
   "metadata": {
    "id": "6aZWdsCJZ51R"
   },
   "outputs": [],
   "source": [
    "# Write Code\n",
    "\n",
    "def plot_histogram_quality(df) :\n",
    "    # df['quality'] shows our scores between \n",
    "    counts, bins = np.histogram(df['quality'])\n",
    "    ax = plt.hist(df['quality'],color=\"darkred\",bins=[0,1,2,3,4,5,6,7,8,9,10], align='mid',rwidth=.66, density=True) \n",
    "    plt.xlabel(\"Quality Score\")\n",
    "    plt.ylabel(\"Percent of all samples\")\n",
    " "
   ]
  },
  {
   "cell_type": "code",
   "execution_count": 9,
   "metadata": {
    "id": "bVL_ATkCZ51R",
    "outputId": "0c95a452-0a77-4ebf-93ae-56c543f64b05"
   },
   "outputs": [
    {
     "data": {
      "image/png": "[encoded data removed]",
      "text/plain": [
       "<Figure size 432x288 with 1 Axes>"
      ]
     },
     "metadata": {
      "needs_background": "light"
     },
     "output_type": "display_data"
    }
   ],
   "source": [
    "# Run Code\n",
    "plot_histogram_quality(wine_red)"
   ]
  },
  {
   "cell_type": "markdown",
   "metadata": {
    "id": "nWYRToJmZ51S"
   },
   "source": [
    "Notice that just over 40 percent of all wine samples have a quality rating of 5 and almost as many have the rating 6.  Imagine we just build an algorithm that takes a sample says the predicted quality rating is 5.5 without **ever** looking at the features?"
   ]
  },
  {
   "cell_type": "code",
   "execution_count": 10,
   "metadata": {
    "id": "aSSO8VSXZ51S"
   },
   "outputs": [],
   "source": [
    "## Write Code\n",
    "\n",
    "def error_just_guessing(df, qv) :\n",
    "    print(\"Guessing a constant quality score: \t%4.2f\"%qv)\n",
    "    y_true = wine_red['quality'].values\n",
    "    y_pred = np.full((1599,), qv) # created an np array that fills in qv values as our predicted quality.\n",
    "    \n",
    "    rmse = mean_squared_error(y_true,y_pred) # Mean root error regression loss.\n",
    "    mae = mean_absolute_error(y_true, y_pred) # Mean absolute error regression loss.\n",
    "    print(\"The root mean squared error is: \t%4.2f\" % rmse)\n",
    "    print(\"The mean absolute error is: \t\t%4.2f\" % mae)\n",
    "    "
   ]
  },
  {
   "cell_type": "code",
   "execution_count": 11,
   "metadata": {
    "id": "6849DNTmZ51T",
    "outputId": "35613f24-665b-4abb-e619-1b74a48ce416"
   },
   "outputs": [
    {
     "name": "stdout",
     "output_type": "stream",
     "text": [
      "Guessing a constant quality score: \t5.60\n",
      "The root mean squared error is: \t0.65\n",
      "The mean absolute error is: \t\t0.69\n"
     ]
    }
   ],
   "source": [
    "## Run Code\n",
    "\n",
    "error_just_guessing(wine_red, 5.6)"
   ]
  },
  {
   "cell_type": "markdown",
   "metadata": {
    "id": "DJadRMzjZ51T"
   },
   "source": [
    "Note that so far we have learned that the average absolute error predicting the quality rating using linear regression on the single feature acohol is $0.56$ and this error increases to $0.69$ when just guessing that all wines have a score of $5.6$. \n",
    "\n",
    "The best we can say is we're doing just a small bit better with univariate regression on a single feature than we do using just a guess. "
   ]
  },
  {
   "cell_type": "markdown",
   "metadata": {
    "id": "VXeKvCqEZ51U"
   },
   "source": [
    "## Part 4: Regression to Ratings\n",
    "\n",
    "Another arguably better way to interpret the quality of the predictions is to map them into integer quality ratings which will - or will not - match those in the data set.  "
   ]
  },
  {
   "cell_type": "code",
   "execution_count": 12,
   "metadata": {
    "id": "LDif9rLZZ51U"
   },
   "outputs": [],
   "source": [
    "## Write Code\n",
    "\n",
    "def y_values_to_ratings (y) :\n",
    "    return np.round(y) # we rounded our regressions in order to get an integer to match with our data.\n",
    "# In the algorithim below, we're quantifying the accuracy of our regression classification."
   ]
  },
  {
   "cell_type": "code",
   "execution_count": 13,
   "metadata": {
    "id": "fStWFQ5PZ51U",
    "outputId": "0bb9aeeb-f7b0-4fa2-8fd8-29f2705c2086"
   },
   "outputs": [
    {
     "name": "stdout",
     "output_type": "stream",
     "text": [
      "Regression classification accurracy on alcohol: \t 0.56\n",
      "Regression classification accurracy guessing 5: \t 0.43\n"
     ]
    }
   ],
   "source": [
    "## Run Code\n",
    "\n",
    "accalr = np.sum(y_values_to_ratings(lra.predict(Xa)) == ya)/ya.shape[0]\n",
    "print(f'Regression classification accurracy on alcohol: \\t{accalr:5.2f}')\n",
    "\n",
    "accagu = np.sum(5 == ya)/ya.shape[0]\n",
    "print(f'Regression classification accurracy guessing 5: \\t{accagu:5.2f}')"
   ]
  },
  {
   "cell_type": "markdown",
   "metadata": {
    "id": "GEA_mULvZ51V"
   },
   "source": [
    "Note that it is possible to get $13$ out of $100$ wine qualities correct using the linear regression model on just alcholoh content when compared to simply guessing a quality rating of $5$.\n",
    "\n",
    "However, it might be useful to look more carefully at the mistakes, and for that we want to generate a confusion matrix.  "
   ]
  },
  {
   "cell_type": "markdown",
   "metadata": {
    "id": "SPtS2NR0Z51V"
   },
   "source": [
    "As you develop the code to generate the confusion matrix here are some very specific hopefully helpful pointers.  \n",
    "\n",
    "First, let us consider just the construction of the matrix."
   ]
  },
  {
   "cell_type": "code",
   "execution_count": 14,
   "metadata": {
    "id": "dx4jSlmrZ51V"
   },
   "outputs": [],
   "source": [
    "## Write Code\n",
    "from sklearn.metrics._plot import confusion_matrix as cm\n",
    "\n",
    "def make_cm_1(lra, Xa, y) :\n",
    "    y_pred = y_values_to_ratings(lra.predict(Xa)) # round our model so we could compare to \n",
    "    matrix = cm.confusion_matrix(y, y_pred)\n",
    "    return matrix\n",
    "    "
   ]
  },
  {
   "cell_type": "code",
   "execution_count": 15,
   "metadata": {
    "id": "vOrNeTh6Z51W",
    "outputId": "55c4b2b4-a760-44db-97ce-4c38b7f71384"
   },
   "outputs": [
    {
     "name": "stdout",
     "output_type": "stream",
     "text": [
      "[[  0   0   6   4   0   0]\n",
      " [  0   0  28  24   1   0]\n",
      " [  0   0 475 199   7   0]\n",
      " [  0   0 219 406  13   0]\n",
      " [  0   0  19 168  12   0]\n",
      " [  0   0   2  11   5   0]]\n"
     ]
    }
   ],
   "source": [
    "## Run Code\n",
    "mat = make_cm_1(lra, Xa, ya)\n",
    "print(mat)"
   ]
  },
  {
   "cell_type": "markdown",
   "metadata": {
    "id": "hi3Mv2--Z51W"
   },
   "source": [
    "Second, the next fine point is building labels to use in the nicely displated plot of the confusion matrix. Keep in mind that your code should be general and find the integer range of quality rating scores present in ``y``.  To test your code notice the run code below will be tested using fake quality scores on a different interval."
   ]
  },
  {
   "cell_type": "code",
   "execution_count": 16,
   "metadata": {
    "id": "lwjxVrQyZ51W"
   },
   "outputs": [],
   "source": [
    "## Write Code\n",
    "\n",
    "def make_quality_text_labels(y) :\n",
    "    score = []\n",
    "    for i in y:\n",
    "        if i not in score:\n",
    "            score.append(i)\n",
    "    score.sort()\n",
    "    return [f\"QR {i}\" for i in score]\n"
   ]
  },
  {
   "cell_type": "code",
   "execution_count": 17,
   "metadata": {
    "id": "-mC576uAZ51X",
    "outputId": "a1ed25a9-948c-4046-c519-53e8a3a8f05e"
   },
   "outputs": [
    {
     "name": "stdout",
     "output_type": "stream",
     "text": [
      "['QR 3', 'QR 4', 'QR 5', 'QR 6', 'QR 7', 'QR 8']\n",
      "['QR 7', 'QR 8', 'QR 9', 'QR 10', 'QR 11', 'QR 12', 'QR 13']\n"
     ]
    }
   ],
   "source": [
    "## Run Code\n",
    "\n",
    "print(make_quality_text_labels(ya))\n",
    "print(make_quality_text_labels(np.random.randint(7,14,100)))  "
   ]
  },
  {
   "cell_type": "markdown",
   "metadata": {
    "id": "Iep-sUSpZ51Y"
   },
   "source": [
    "Third, put steps one and two together with the actual code to plot the confusion matrix. \n",
    "\n",
    "Some hints about the plot. The figure size should be 7 by 6.  And [this stackoverflow post](https://stackoverflow.com/questions/66483409/adjust-size-of-confusionmatrixdisplay-scikitlearn) might help with figure size. There is an argument to the plot command that will modify the display of the counts so they are printed as simple integers. Simply pass the empty string to ``values_format``.  The colormap you are looking at is ``plt.cm.YlGn``."
   ]
  },
  {
   "cell_type": "code",
   "execution_count": 18,
   "metadata": {
    "id": "MYPdqsgnZ51Z"
   },
   "outputs": [],
   "source": [
    "## Write Code\n",
    "\n",
    "def display_confusion_matrix(lra, Xa, y, title) :\n",
    "    matrix = make_cm_1(lra,Xa,y) # gets matrix\n",
    "    labels = make_quality_text_labels(y) # gets labels\n",
    "    display_matrix = cm.ConfusionMatrixDisplay(confusion_matrix=matrix, display_labels=labels) # creates display obj.\n",
    "    \n",
    "    fig, ax = plt.subplots(figsize=(7,6)) # size of fig.\n",
    "    display_matrix.plot(ax=ax, include_values=True, values_format=\"\", cmap=plt.cm.YlGn) # plots confusion matrix,  \n",
    "    ax.set_title(title)"
   ]
  },
  {
   "cell_type": "code",
   "execution_count": 19,
   "metadata": {
    "id": "e-cGB4x2Z51a",
    "outputId": "bc2cb345-e9a0-4c99-b9ed-3cf16d8fb0d6"
   },
   "outputs": [
    {
     "data": {
      "image/png": "[encoded data removed]",
      "text/plain": [
       "<Figure size 504x432 with 2 Axes>"
      ]
     },
     "metadata": {
      "needs_background": "light"
     },
     "output_type": "display_data"
    }
   ],
   "source": [
    "## Run Code\n",
    "\n",
    "display_confusion_matrix(lra, Xa, ya, 'Confusion using only alcohol feature')"
   ]
  },
  {
   "cell_type": "markdown",
   "metadata": {
    "id": "MQsh9Mw3Z51b"
   },
   "source": [
    "## Part 5: All Features one at a Time\n",
    "\n",
    "So far we've just worked with the single feature ``alcohol`` - what about the others?\n",
    "\n",
    "Below you will write the code to step through each feature and compute the classifcation accuracy based upon a univariate linear model relating that feature to ``quality``.\n",
    "\n",
    "Some aspects of the code you are to write desere mention. First, your results will be printed in sorted order from least accurate prediction to most accurate.  Second, keep in mind your code will step throught each feature and create a new linear model for each. The accuracy is then computed from that model in same basic way it was done above. Do not forget to convert floating point y value predictions to integer ratings - as done above."
   ]
  },
  {
   "cell_type": "code",
   "execution_count": 20,
   "metadata": {
    "id": "0sf2D338Z51c"
   },
   "outputs": [],
   "source": [
    "## Write Code\n",
    "\n",
    "def report_univariate_regression_models_accuracy(df) :\n",
    "    accuracies = []\n",
    "    for feature in df.columns.drop(['quality']): # iterates through each feature in dataset execept quality.\n",
    "        Xa, ya, lra = fit_univariate_model (df, feature)\n",
    "        y_pred = y_values_to_ratings(lra.predict(Xa)) # round our model so we could compare.\n",
    "        acc = np.sum(y_values_to_ratings(y_pred) == ya)/ya.shape[0] # accuracy of feature\n",
    "        accuracies.append([acc,feature]) # appends accuracy and feature to our accuracies list.\n",
    "        \n",
    "    accuracies = sorted(accuracies) # sorts our accuracy.\n",
    "    [print(f\"Accuracy{acc[0]:5.2f} for feature {acc[1]}\") for acc in accuracies] # prints our accuracy for each feat.\n",
    "    return None"
   ]
  },
  {
   "cell_type": "code",
   "execution_count": 21,
   "metadata": {
    "id": "UTPQzyulZ51c",
    "outputId": "d1359f87-1af7-4b2f-953e-82b465b1b913"
   },
   "outputs": [
    {
     "name": "stdout",
     "output_type": "stream",
     "text": [
      "Accuracy 0.39 for feature fixed acidity\n",
      "Accuracy 0.40 for feature pH\n",
      "Accuracy 0.40 for feature residual sugar\n",
      "Accuracy 0.40 for feature density\n",
      "Accuracy 0.40 for feature free sulfur dioxide\n",
      "Accuracy 0.40 for feature chlorides\n",
      "Accuracy 0.41 for feature citric acid\n",
      "Accuracy 0.48 for feature total sulfur dioxide\n",
      "Accuracy 0.48 for feature volatile acidity\n",
      "Accuracy 0.49 for feature sulphates\n",
      "Accuracy 0.56 for feature alcohol\n"
     ]
    }
   ],
   "source": [
    "## Run Code\n",
    "report_univariate_regression_models_accuracy(wine_red)"
   ]
  },
  {
   "cell_type": "markdown",
   "metadata": {
    "id": "83jRrNVyZ51d"
   },
   "source": [
    "Closing out this part, note that our first hunch based solely upon correlation between quality and features let us to consider ``alcohol`` and as it now turns out that feature is the best of the eleven in terms of prediction based upon a univariate linear model."
   ]
  },
  {
   "cell_type": "markdown",
   "metadata": {
    "id": "neFqSepZZ51d"
   },
   "source": [
    "## Part 6: All Features Taken Together\n",
    "\n",
    "How much better might our predictions get if we combine all eleven features into a single model?"
   ]
  },
  {
   "cell_type": "code",
   "execution_count": 22,
   "metadata": {
    "id": "0YLD6NkeZ51e"
   },
   "outputs": [],
   "source": [
    "## Write Code\n",
    "\n",
    "def fit_multivariate_model (df) :\n",
    "    model = LinearRegression()\n",
    "    X = df[df.columns.drop(['quality'])] # All features except for quality\n",
    "    y = df['quality']\n",
    "    model.fit(X,y)\n",
    "    return X, y, model"
   ]
  },
  {
   "cell_type": "code",
   "execution_count": 23,
   "metadata": {
    "id": "Hro1zE37Z51e",
    "outputId": "4caa208f-4465-4b47-f0c7-f2e979fb6985",
    "scrolled": true
   },
   "outputs": [
    {
     "name": "stdout",
     "output_type": "stream",
     "text": [
      "The accuracy using all features: \t0.59\n"
     ]
    }
   ],
   "source": [
    "## Run Code\n",
    "\n",
    "X, y, lr = fit_multivariate_model(wine_red)\n",
    "\n",
    "y_pred = np.round(lr.predict(X))\n",
    "acc = np.sum(y_pred == y) / len(y)\n",
    "print(f'The accuracy using all features: \\t{acc:1.2f}')"
   ]
  },
  {
   "cell_type": "markdown",
   "metadata": {
    "id": "txq0lkWzZ51f"
   },
   "source": [
    "Let us revisit the confusion matrix, this time for the all eleven feature model. In fact, let us first redisplay the ``aclohol`` only confusion matrix and follow it with the all feature matrix so as to invite comparison."
   ]
  },
  {
   "cell_type": "code",
   "execution_count": 24,
   "metadata": {
    "id": "CYESGlSfZ51f",
    "outputId": "2f4a8fdf-7b1f-4b34-9d61-b053971de35c"
   },
   "outputs": [
    {
     "data": {
      "image/png": "[encoded data removed]",
      "text/plain": [
       "<Figure size 504x432 with 2 Axes>"
      ]
     },
     "metadata": {
      "needs_background": "light"
     },
     "output_type": "display_data"
    },
    {
     "data": {
      "image/png": "[encoded data removed]",
      "text/plain": [
       "<Figure size 504x432 with 2 Axes>"
      ]
     },
     "metadata": {
      "needs_background": "light"
     },
     "output_type": "display_data"
    }
   ],
   "source": [
    "## Run Code\n",
    "\n",
    "display_confusion_matrix(lra, Xa, y, 'Confusion using only alcohol feature')\n",
    "display_confusion_matrix(lr, X, y, 'Confusion using all eleven features')"
   ]
  },
  {
   "cell_type": "markdown",
   "metadata": {
    "id": "P4rD4Nf2Z51g"
   },
   "source": [
    "## Part 7: What About Generalization\n",
    "\n",
    "Up to now everything done is about describing the entire dataset.  \n",
    "\n",
    "What about generalization?\n",
    "\n",
    "Let us divide the red wine data samples into at training and test set and repeat the eleven feature regression where we respect the protocol that says fit the model on the training data and report performance on the test set."
   ]
  },
  {
   "cell_type": "code",
   "execution_count": 25,
   "metadata": {
    "id": "5ltFXbHUZ51g"
   },
   "outputs": [],
   "source": [
    "## Write Code\n",
    "\n",
    "def split_50_50(df) :\n",
    "    X = df[df.columns.drop(['quality'])].values # All features except for quality\n",
    "    y = df['quality'].values\n",
    "    \n",
    "    return train_test_split(X,y,test_size=.5,random_state=42,stratify=y)"
   ]
  },
  {
   "cell_type": "markdown",
   "metadata": {
    "id": "_YKGj6lPZ51g"
   },
   "source": [
    "When you run the next code it will test how well your 50 50 split keeps a balance of quality ratings in the training and test sets."
   ]
  },
  {
   "cell_type": "code",
   "execution_count": 26,
   "metadata": {
    "id": "X6L5tMt8Z51g",
    "outputId": "1eea5f00-da5d-4f3e-dbc3-303929257f15"
   },
   "outputs": [
    {
     "data": {
      "image/png": "[encoded data removed]",
      "text/plain": [
       "<Figure size 504x432 with 1 Axes>"
      ]
     },
     "metadata": {
      "needs_background": "light"
     },
     "output_type": "display_data"
    }
   ],
   "source": [
    "## Run Code\n",
    "\n",
    "X_train, X_test, y_train, y_test = split_50_50(wine_red)\n",
    "\n",
    "plt.style.use('seaborn-deep')\n",
    "fig, ax = plt.subplots(figsize=(7,6))\n",
    "ax.hist([y_train, y_test], label=['train','test'])\n",
    "ax.legend(loc='upper right')\n",
    "ax.set_xlabel('Quality Ratings')\n",
    "ax.set_ylabel('Sample Count')\n",
    "pass"
   ]
  },
  {
   "cell_type": "code",
   "execution_count": 39,
   "metadata": {
    "id": "KxoQLCLmZ51g"
   },
   "outputs": [],
   "source": [
    "## Write Code\n",
    "\n",
    "def fit_multivariate_model_50_50 (df) :\n",
    "    X_train, X_test, y_train, y_test = split_50_50(df)\n",
    "    \n",
    "    y_pred_1 = y_values_to_ratings(lr.predict(X_test))\n",
    "    y_pred_2 = y_values_to_ratings(lr.predict(X_train))\n",
    "    first_accuracy = sum(y_pred_1==y_test)/len(y_test)\n",
    "    second_accuracy = sum(y_pred_2==y_train)/len(y_train)\n",
    "    print(f\"\\nThe first split accuracy is: \t{first_accuracy:5.2f}\\n\")\n",
    "    print(f\"The second split accuracy is: \t{second_accuracy:5.2f}\\n\")\n"
   ]
  },
  {
   "cell_type": "code",
   "execution_count": 40,
   "metadata": {
    "id": "p_6mPhQ_Z51h",
    "outputId": "4995dcf1-24b6-4e9b-8c37-5f2301e99ba0"
   },
   "outputs": [
    {
     "name": "stdout",
     "output_type": "stream",
     "text": [
      "\n",
      "The first split accuracy is: \t 0.61\n",
      "\n",
      "The second split accuracy is: \t 0.57\n",
      "\n"
     ]
    }
   ],
   "source": [
    "## Run Code\n",
    "\n",
    "fit_multivariate_model_50_50(wine_red) "
   ]
  },
  {
   "cell_type": "markdown",
   "metadata": {
    "id": "_iu9XMDHZ51h"
   },
   "source": [
    "## Part 8: Maybe Nearest Neighbor"
   ]
  },
  {
   "cell_type": "code",
   "execution_count": 56,
   "metadata": {
    "id": "Te0RfaCCZ51h"
   },
   "outputs": [
    {
     "name": "stdout",
     "output_type": "stream",
     "text": [
      "\n",
      "The first split accuracy is: \t0.564\n",
      "The second split accuracy is: \t0.576\n"
     ]
    }
   ],
   "source": [
    "## Write Code\n",
    "\n",
    "def fit_nearest_neighbor_50_50 (df, k) :\n",
    "    X_train, X_test, y_train, y_test = split_50_50(df)\n",
    "    k_n = KNeighborsClassifier(n_neighbors=k)\n",
    "    \n",
    "    k_n.fit(X_train, y_train) \n",
    "    y_pred_1 = y_values_to_ratings(k_n.predict(X_test))\n",
    "    \n",
    "    k_n.fit(X_test, y_test)\n",
    "    y_pred_2 = y_values_to_ratings(k_n.predict(X_train))\n",
    "    \n",
    "    first_accuracy = sum(y_pred_1==y_test)/len(y_test)\n",
    "    second_accuracy = sum(y_pred_2==y_train)/len(y_train)\n",
    "    print(f\"\\nThe first split accuracy is: \t{first_accuracy:5.3f}\")\n",
    "    print(f\"The second split accuracy is: \t{second_accuracy:5.3f}\")\n",
    "    \n",
    "fit_nearest_neighbor_50_50(wine_red, 1)"
   ]
  },
  {
   "cell_type": "code",
   "execution_count": 57,
   "metadata": {
    "id": "tsUzTqcdZ51h",
    "outputId": "3de313e0-2eeb-43f6-e053-7c581faa1df3"
   },
   "outputs": [
    {
     "name": "stdout",
     "output_type": "stream",
     "text": [
      "\n",
      "The first split accuracy is: \t0.564\n",
      "The second split accuracy is: \t0.576\n",
      "\n",
      "The first split accuracy is: \t0.474\n",
      "The second split accuracy is: \t0.484\n",
      "\n",
      "The first split accuracy is: \t0.495\n",
      "The second split accuracy is: \t0.496\n"
     ]
    }
   ],
   "source": [
    "## Run Code\n",
    "\n",
    "fit_nearest_neighbor_50_50(wine_red, 1)\n",
    "fit_nearest_neighbor_50_50(wine_red, 3)\n",
    "fit_nearest_neighbor_50_50(wine_red, 5)\n",
    "pass"
   ]
  },
  {
   "cell_type": "markdown",
   "metadata": {
    "id": "6Ia3aSTYZ51i"
   },
   "source": [
    "## Part 9: Is White Wine any Easier\n",
    "\n",
    "There is another whole dataset just like the red wine dataset, but for white wines.\n",
    "\n",
    "Note here you need to create the panda data frame called ``wine_white`` using the model of the code given above for red wine."
   ]
  },
  {
   "cell_type": "code",
   "execution_count": null,
   "metadata": {
    "id": "fFuVhd7vZ51i",
    "outputId": "fe929c1b-84e3-43be-db66-2b5338ed4991"
   },
   "outputs": [
    {
     "data": {
      "text/html": [
       "<div>\n",
       "<style scoped>\n",
       "    .dataframe tbody tr th:only-of-type {\n",
       "        vertical-align: middle;\n",
       "    }\n",
       "\n",
       "    .dataframe tbody tr th {\n",
       "        vertical-align: top;\n",
       "    }\n",
       "\n",
       "    .dataframe thead th {\n",
       "        text-align: right;\n",
       "    }\n",
       "</style>\n",
       "<table border=\"1\" class=\"dataframe\">\n",
       "  <thead>\n",
       "    <tr style=\"text-align: right;\">\n",
       "      <th></th>\n",
       "      <th>quality</th>\n",
       "      <th>fixed acidity</th>\n",
       "      <th>volatile acidity</th>\n",
       "      <th>citric acid</th>\n",
       "      <th>residual sugar</th>\n",
       "      <th>chlorides</th>\n",
       "      <th>free sulfur dioxide</th>\n",
       "      <th>total sulfur dioxide</th>\n",
       "      <th>density</th>\n",
       "      <th>pH</th>\n",
       "      <th>sulphates</th>\n",
       "      <th>alcohol</th>\n",
       "    </tr>\n",
       "  </thead>\n",
       "  <tbody>\n",
       "    <tr>\n",
       "      <th>0</th>\n",
       "      <td>6</td>\n",
       "      <td>7.0</td>\n",
       "      <td>0.27</td>\n",
       "      <td>0.36</td>\n",
       "      <td>20.7</td>\n",
       "      <td>0.045</td>\n",
       "      <td>45.0</td>\n",
       "      <td>170.0</td>\n",
       "      <td>1.0010</td>\n",
       "      <td>3.00</td>\n",
       "      <td>0.45</td>\n",
       "      <td>8.8</td>\n",
       "    </tr>\n",
       "    <tr>\n",
       "      <th>1</th>\n",
       "      <td>6</td>\n",
       "      <td>6.3</td>\n",
       "      <td>0.30</td>\n",
       "      <td>0.34</td>\n",
       "      <td>1.6</td>\n",
       "      <td>0.049</td>\n",
       "      <td>14.0</td>\n",
       "      <td>132.0</td>\n",
       "      <td>0.9940</td>\n",
       "      <td>3.30</td>\n",
       "      <td>0.49</td>\n",
       "      <td>9.5</td>\n",
       "    </tr>\n",
       "    <tr>\n",
       "      <th>2</th>\n",
       "      <td>6</td>\n",
       "      <td>8.1</td>\n",
       "      <td>0.28</td>\n",
       "      <td>0.40</td>\n",
       "      <td>6.9</td>\n",
       "      <td>0.050</td>\n",
       "      <td>30.0</td>\n",
       "      <td>97.0</td>\n",
       "      <td>0.9951</td>\n",
       "      <td>3.26</td>\n",
       "      <td>0.44</td>\n",
       "      <td>10.1</td>\n",
       "    </tr>\n",
       "    <tr>\n",
       "      <th>3</th>\n",
       "      <td>6</td>\n",
       "      <td>7.2</td>\n",
       "      <td>0.23</td>\n",
       "      <td>0.32</td>\n",
       "      <td>8.5</td>\n",
       "      <td>0.058</td>\n",
       "      <td>47.0</td>\n",
       "      <td>186.0</td>\n",
       "      <td>0.9956</td>\n",
       "      <td>3.19</td>\n",
       "      <td>0.40</td>\n",
       "      <td>9.9</td>\n",
       "    </tr>\n",
       "    <tr>\n",
       "      <th>4</th>\n",
       "      <td>6</td>\n",
       "      <td>7.2</td>\n",
       "      <td>0.23</td>\n",
       "      <td>0.32</td>\n",
       "      <td>8.5</td>\n",
       "      <td>0.058</td>\n",
       "      <td>47.0</td>\n",
       "      <td>186.0</td>\n",
       "      <td>0.9956</td>\n",
       "      <td>3.19</td>\n",
       "      <td>0.40</td>\n",
       "      <td>9.9</td>\n",
       "    </tr>\n",
       "  </tbody>\n",
       "</table>\n",
       "</div>"
      ],
      "text/plain": [
       "   quality  fixed acidity  volatile acidity  citric acid  residual sugar  \\\n",
       "0        6            7.0              0.27         0.36            20.7   \n",
       "1        6            6.3              0.30         0.34             1.6   \n",
       "2        6            8.1              0.28         0.40             6.9   \n",
       "3        6            7.2              0.23         0.32             8.5   \n",
       "4        6            7.2              0.23         0.32             8.5   \n",
       "\n",
       "   chlorides  free sulfur dioxide  total sulfur dioxide  density    pH  \\\n",
       "0      0.045                 45.0                 170.0   1.0010  3.00   \n",
       "1      0.049                 14.0                 132.0   0.9940  3.30   \n",
       "2      0.050                 30.0                  97.0   0.9951  3.26   \n",
       "3      0.058                 47.0                 186.0   0.9956  3.19   \n",
       "4      0.058                 47.0                 186.0   0.9956  3.19   \n",
       "\n",
       "   sulphates  alcohol  \n",
       "0       0.45      8.8  \n",
       "1       0.49      9.5  \n",
       "2       0.44     10.1  \n",
       "3       0.40      9.9  \n",
       "4       0.40      9.9  "
      ]
     },
     "execution_count": 33,
     "metadata": {},
     "output_type": "execute_result"
    }
   ],
   "source": [
    "# Write Code\n",
    "\n"
   ]
  },
  {
   "cell_type": "code",
   "execution_count": null,
   "metadata": {
    "id": "5S-tNFj3Z51j",
    "outputId": "23e155b2-6073-42ae-9ff7-723b539dbc4c"
   },
   "outputs": [
    {
     "data": {
      "text/html": [
       "<div>\n",
       "<style scoped>\n",
       "    .dataframe tbody tr th:only-of-type {\n",
       "        vertical-align: middle;\n",
       "    }\n",
       "\n",
       "    .dataframe tbody tr th {\n",
       "        vertical-align: top;\n",
       "    }\n",
       "\n",
       "    .dataframe thead th {\n",
       "        text-align: right;\n",
       "    }\n",
       "</style>\n",
       "<table border=\"1\" class=\"dataframe\">\n",
       "  <thead>\n",
       "    <tr style=\"text-align: right;\">\n",
       "      <th></th>\n",
       "      <th>quality</th>\n",
       "      <th>fixed acidity</th>\n",
       "      <th>volatile acidity</th>\n",
       "      <th>citric acid</th>\n",
       "      <th>residual sugar</th>\n",
       "      <th>chlorides</th>\n",
       "      <th>free sulfur dioxide</th>\n",
       "      <th>total sulfur dioxide</th>\n",
       "      <th>density</th>\n",
       "      <th>pH</th>\n",
       "      <th>sulphates</th>\n",
       "      <th>alcohol</th>\n",
       "    </tr>\n",
       "  </thead>\n",
       "  <tbody>\n",
       "    <tr>\n",
       "      <th>quality</th>\n",
       "      <td>1.000000</td>\n",
       "      <td>-0.113663</td>\n",
       "      <td>-0.194723</td>\n",
       "      <td>-0.009209</td>\n",
       "      <td>-0.097577</td>\n",
       "      <td>-0.209934</td>\n",
       "      <td>0.008158</td>\n",
       "      <td>-0.174737</td>\n",
       "      <td>-0.307123</td>\n",
       "      <td>0.099427</td>\n",
       "      <td>0.053678</td>\n",
       "      <td>0.435575</td>\n",
       "    </tr>\n",
       "    <tr>\n",
       "      <th>fixed acidity</th>\n",
       "      <td>-0.113663</td>\n",
       "      <td>1.000000</td>\n",
       "      <td>-0.022697</td>\n",
       "      <td>0.289181</td>\n",
       "      <td>0.089021</td>\n",
       "      <td>0.023086</td>\n",
       "      <td>-0.049396</td>\n",
       "      <td>0.091070</td>\n",
       "      <td>0.265331</td>\n",
       "      <td>-0.425858</td>\n",
       "      <td>-0.017143</td>\n",
       "      <td>-0.120881</td>\n",
       "    </tr>\n",
       "    <tr>\n",
       "      <th>volatile acidity</th>\n",
       "      <td>-0.194723</td>\n",
       "      <td>-0.022697</td>\n",
       "      <td>1.000000</td>\n",
       "      <td>-0.149472</td>\n",
       "      <td>0.064286</td>\n",
       "      <td>0.070512</td>\n",
       "      <td>-0.097012</td>\n",
       "      <td>0.089261</td>\n",
       "      <td>0.027114</td>\n",
       "      <td>-0.031915</td>\n",
       "      <td>-0.035728</td>\n",
       "      <td>0.067718</td>\n",
       "    </tr>\n",
       "    <tr>\n",
       "      <th>citric acid</th>\n",
       "      <td>-0.009209</td>\n",
       "      <td>0.289181</td>\n",
       "      <td>-0.149472</td>\n",
       "      <td>1.000000</td>\n",
       "      <td>0.094212</td>\n",
       "      <td>0.114364</td>\n",
       "      <td>0.094077</td>\n",
       "      <td>0.121131</td>\n",
       "      <td>0.149503</td>\n",
       "      <td>-0.163748</td>\n",
       "      <td>0.062331</td>\n",
       "      <td>-0.075729</td>\n",
       "    </tr>\n",
       "    <tr>\n",
       "      <th>residual sugar</th>\n",
       "      <td>-0.097577</td>\n",
       "      <td>0.089021</td>\n",
       "      <td>0.064286</td>\n",
       "      <td>0.094212</td>\n",
       "      <td>1.000000</td>\n",
       "      <td>0.088685</td>\n",
       "      <td>0.299098</td>\n",
       "      <td>0.401439</td>\n",
       "      <td>0.838966</td>\n",
       "      <td>-0.194133</td>\n",
       "      <td>-0.026664</td>\n",
       "      <td>-0.450631</td>\n",
       "    </tr>\n",
       "    <tr>\n",
       "      <th>chlorides</th>\n",
       "      <td>-0.209934</td>\n",
       "      <td>0.023086</td>\n",
       "      <td>0.070512</td>\n",
       "      <td>0.114364</td>\n",
       "      <td>0.088685</td>\n",
       "      <td>1.000000</td>\n",
       "      <td>0.101392</td>\n",
       "      <td>0.198910</td>\n",
       "      <td>0.257211</td>\n",
       "      <td>-0.090439</td>\n",
       "      <td>0.016763</td>\n",
       "      <td>-0.360189</td>\n",
       "    </tr>\n",
       "    <tr>\n",
       "      <th>free sulfur dioxide</th>\n",
       "      <td>0.008158</td>\n",
       "      <td>-0.049396</td>\n",
       "      <td>-0.097012</td>\n",
       "      <td>0.094077</td>\n",
       "      <td>0.299098</td>\n",
       "      <td>0.101392</td>\n",
       "      <td>1.000000</td>\n",
       "      <td>0.615501</td>\n",
       "      <td>0.294210</td>\n",
       "      <td>-0.000618</td>\n",
       "      <td>0.059217</td>\n",
       "      <td>-0.250104</td>\n",
       "    </tr>\n",
       "    <tr>\n",
       "      <th>total sulfur dioxide</th>\n",
       "      <td>-0.174737</td>\n",
       "      <td>0.091070</td>\n",
       "      <td>0.089261</td>\n",
       "      <td>0.121131</td>\n",
       "      <td>0.401439</td>\n",
       "      <td>0.198910</td>\n",
       "      <td>0.615501</td>\n",
       "      <td>1.000000</td>\n",
       "      <td>0.529881</td>\n",
       "      <td>0.002321</td>\n",
       "      <td>0.134562</td>\n",
       "      <td>-0.448892</td>\n",
       "    </tr>\n",
       "    <tr>\n",
       "      <th>density</th>\n",
       "      <td>-0.307123</td>\n",
       "      <td>0.265331</td>\n",
       "      <td>0.027114</td>\n",
       "      <td>0.149503</td>\n",
       "      <td>0.838966</td>\n",
       "      <td>0.257211</td>\n",
       "      <td>0.294210</td>\n",
       "      <td>0.529881</td>\n",
       "      <td>1.000000</td>\n",
       "      <td>-0.093591</td>\n",
       "      <td>0.074493</td>\n",
       "      <td>-0.780138</td>\n",
       "    </tr>\n",
       "    <tr>\n",
       "      <th>pH</th>\n",
       "      <td>0.099427</td>\n",
       "      <td>-0.425858</td>\n",
       "      <td>-0.031915</td>\n",
       "      <td>-0.163748</td>\n",
       "      <td>-0.194133</td>\n",
       "      <td>-0.090439</td>\n",
       "      <td>-0.000618</td>\n",
       "      <td>0.002321</td>\n",
       "      <td>-0.093591</td>\n",
       "      <td>1.000000</td>\n",
       "      <td>0.155951</td>\n",
       "      <td>0.121432</td>\n",
       "    </tr>\n",
       "    <tr>\n",
       "      <th>sulphates</th>\n",
       "      <td>0.053678</td>\n",
       "      <td>-0.017143</td>\n",
       "      <td>-0.035728</td>\n",
       "      <td>0.062331</td>\n",
       "      <td>-0.026664</td>\n",
       "      <td>0.016763</td>\n",
       "      <td>0.059217</td>\n",
       "      <td>0.134562</td>\n",
       "      <td>0.074493</td>\n",
       "      <td>0.155951</td>\n",
       "      <td>1.000000</td>\n",
       "      <td>-0.017433</td>\n",
       "    </tr>\n",
       "    <tr>\n",
       "      <th>alcohol</th>\n",
       "      <td>0.435575</td>\n",
       "      <td>-0.120881</td>\n",
       "      <td>0.067718</td>\n",
       "      <td>-0.075729</td>\n",
       "      <td>-0.450631</td>\n",
       "      <td>-0.360189</td>\n",
       "      <td>-0.250104</td>\n",
       "      <td>-0.448892</td>\n",
       "      <td>-0.780138</td>\n",
       "      <td>0.121432</td>\n",
       "      <td>-0.017433</td>\n",
       "      <td>1.000000</td>\n",
       "    </tr>\n",
       "  </tbody>\n",
       "</table>\n",
       "</div>"
      ],
      "text/plain": [
       "                       quality  fixed acidity  volatile acidity  citric acid  \\\n",
       "quality               1.000000      -0.113663         -0.194723    -0.009209   \n",
       "fixed acidity        -0.113663       1.000000         -0.022697     0.289181   \n",
       "volatile acidity     -0.194723      -0.022697          1.000000    -0.149472   \n",
       "citric acid          -0.009209       0.289181         -0.149472     1.000000   \n",
       "residual sugar       -0.097577       0.089021          0.064286     0.094212   \n",
       "chlorides            -0.209934       0.023086          0.070512     0.114364   \n",
       "free sulfur dioxide   0.008158      -0.049396         -0.097012     0.094077   \n",
       "total sulfur dioxide -0.174737       0.091070          0.089261     0.121131   \n",
       "density              -0.307123       0.265331          0.027114     0.149503   \n",
       "pH                    0.099427      -0.425858         -0.031915    -0.163748   \n",
       "sulphates             0.053678      -0.017143         -0.035728     0.062331   \n",
       "alcohol               0.435575      -0.120881          0.067718    -0.075729   \n",
       "\n",
       "                      residual sugar  chlorides  free sulfur dioxide  \\\n",
       "quality                    -0.097577  -0.209934             0.008158   \n",
       "fixed acidity               0.089021   0.023086            -0.049396   \n",
       "volatile acidity            0.064286   0.070512            -0.097012   \n",
       "citric acid                 0.094212   0.114364             0.094077   \n",
       "residual sugar              1.000000   0.088685             0.299098   \n",
       "chlorides                   0.088685   1.000000             0.101392   \n",
       "free sulfur dioxide         0.299098   0.101392             1.000000   \n",
       "total sulfur dioxide        0.401439   0.198910             0.615501   \n",
       "density                     0.838966   0.257211             0.294210   \n",
       "pH                         -0.194133  -0.090439            -0.000618   \n",
       "sulphates                  -0.026664   0.016763             0.059217   \n",
       "alcohol                    -0.450631  -0.360189            -0.250104   \n",
       "\n",
       "                      total sulfur dioxide   density        pH  sulphates  \\\n",
       "quality                          -0.174737 -0.307123  0.099427   0.053678   \n",
       "fixed acidity                     0.091070  0.265331 -0.425858  -0.017143   \n",
       "volatile acidity                  0.089261  0.027114 -0.031915  -0.035728   \n",
       "citric acid                       0.121131  0.149503 -0.163748   0.062331   \n",
       "residual sugar                    0.401439  0.838966 -0.194133  -0.026664   \n",
       "chlorides                         0.198910  0.257211 -0.090439   0.016763   \n",
       "free sulfur dioxide               0.615501  0.294210 -0.000618   0.059217   \n",
       "total sulfur dioxide              1.000000  0.529881  0.002321   0.134562   \n",
       "density                           0.529881  1.000000 -0.093591   0.074493   \n",
       "pH                                0.002321 -0.093591  1.000000   0.155951   \n",
       "sulphates                         0.134562  0.074493  0.155951   1.000000   \n",
       "alcohol                          -0.448892 -0.780138  0.121432  -0.017433   \n",
       "\n",
       "                       alcohol  \n",
       "quality               0.435575  \n",
       "fixed acidity        -0.120881  \n",
       "volatile acidity      0.067718  \n",
       "citric acid          -0.075729  \n",
       "residual sugar       -0.450631  \n",
       "chlorides            -0.360189  \n",
       "free sulfur dioxide  -0.250104  \n",
       "total sulfur dioxide -0.448892  \n",
       "density              -0.780138  \n",
       "pH                    0.121432  \n",
       "sulphates            -0.017433  \n",
       "alcohol               1.000000  "
      ]
     },
     "execution_count": 34,
     "metadata": {},
     "output_type": "execute_result"
    }
   ],
   "source": [
    "# Run Code\n",
    "\n",
    "wine_white.corr()"
   ]
  },
  {
   "cell_type": "markdown",
   "metadata": {
    "id": "cuotyh_vZ51j"
   },
   "source": [
    "Repeat the 50 50 split linear model analysis on the white wine quality data."
   ]
  },
  {
   "cell_type": "code",
   "execution_count": null,
   "metadata": {
    "id": "rZQ1tpnkZ51k",
    "outputId": "90030370-4ae3-46c5-d9c3-e8c8030ffe60"
   },
   "outputs": [
    {
     "name": "stdout",
     "output_type": "stream",
     "text": [
      "\n",
      "The first split accuracy is: \t0.52\n",
      "\n",
      "The second split accuracy is: \t0.51\n"
     ]
    }
   ],
   "source": [
    "## Write Code\n"
   ]
  },
  {
   "cell_type": "markdown",
   "metadata": {
    "id": "l_LULj0HZ51k"
   },
   "source": [
    "Repeat the 50 50 split k nearest neighbor analysis on the white wine quality data."
   ]
  },
  {
   "cell_type": "code",
   "execution_count": null,
   "metadata": {
    "id": "Z1h5AIdQZ51k",
    "outputId": "a5f8a570-9d00-4ab4-bb69-e93ad30655ef"
   },
   "outputs": [
    {
     "name": "stdout",
     "output_type": "stream",
     "text": [
      "\n",
      "knn for a k of 1\n",
      "The first split accuracy is: \t0.525\n",
      "The second split accuracy is: \t0.527\n",
      "\n",
      "knn for a k of 3\n",
      "The first split accuracy is: \t0.463\n",
      "The second split accuracy is: \t0.457\n",
      "\n",
      "knn for a k of 5\n",
      "The first split accuracy is: \t0.471\n",
      "The second split accuracy is: \t0.454\n"
     ]
    }
   ],
   "source": [
    "## Write Code\n"
   ]
  },
  {
   "cell_type": "markdown",
   "metadata": {
    "id": "9jULHo1lZ51l"
   },
   "source": [
    "## Part 10: Wrapup\n",
    "\n",
    "Use the following markdown box to write a few sentences summarizing what you think you have learned - that is of importance - from using both regression and knn on the wine quality dataset. "
   ]
  },
  {
   "cell_type": "markdown",
   "metadata": {
    "id": "hmCsXrIeZ51l"
   },
   "source": [
    "Your summary goes here!"
   ]
  }
 ],
 "metadata": {
  "colab": {
   "collapsed_sections": [],
   "name": "My_Assignment_3.ipynb",
   "provenance": []
  },
  "kernelspec": {
   "display_name": "Python 3",
   "language": "python",
   "name": "python3"
  },
  "language_info": {
   "codemirror_mode": {
    "name": "ipython",
    "version": 3
   },
   "file_extension": ".py",
   "mimetype": "text/x-python",
   "name": "python",
   "nbconvert_exporter": "python",
   "pygments_lexer": "ipython3",
   "version": "3.8.3"
  }
 },
 "nbformat": 4,
 "nbformat_minor": 1
}
